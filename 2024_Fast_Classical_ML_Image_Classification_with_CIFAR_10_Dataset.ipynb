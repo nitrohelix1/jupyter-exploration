{
  "cells": [
    {
      "cell_type": "markdown",
      "metadata": {
        "id": "view-in-github",
        "colab_type": "text"
      },
      "source": [
        "<a href=\"https://colab.research.google.com/github/nitrohelix1/jupyter-exploration/blob/main/2024_Fast_Classical_ML_Image_Classification_with_CIFAR_10_Dataset.ipynb\" target=\"_parent\"><img src=\"https://colab.research.google.com/assets/colab-badge.svg\" alt=\"Open In Colab\"/></a>"
      ]
    },
    {
      "cell_type": "markdown",
      "metadata": {
        "id": "9PT_TvHxaWG8"
      },
      "source": [
        "# Image Classification with CIFAR-10 Dataset and Scikit-Learn\n",
        "\n",
        "In this notebook, we will explore the basics of image classification using the CIFAR-10 dataset and build a simple image classifier using Scikit-Learn. We will perform the following steps:\n",
        "1. Load and preprocess the CIFAR-10 dataset.\n",
        "2. Extract features from the images.\n",
        "3. Train a machine learning model on the extracted features.\n",
        "4. Evaluate the model's performance.\n",
        "\n",
        "## Step 1: Installing and Importing Libraries\n",
        "\n",
        "### Installing Libraries\n",
        "\n",
        "Before we start, we need to ensure that we have all the necessary libraries installed. We can use `!pip install` to install any missing libraries directly from the Jupyter Notebook. This command is useful for installing Python packages from the Python Package Index (PyPI).\n",
        "\n",
        "### Why Install Libraries?\n",
        "\n",
        "Libraries provide pre-written code that we can use to perform various tasks without having to write everything from scratch. Installing libraries ensures we have access to the necessary functions and tools needed for our project.\n",
        "\n",
        "Here are the libraries we need for this notebook:\n",
        "- **numpy:** For numerical operations.\n",
        "- **matplotlib:** For plotting and visualizing images.\n",
        "- **tensorflow:** For loading the CIFAR-10 dataset.\n",
        "- **scikit-learn (sklearn):** For machine learning models and evaluation metrics.\n",
        "\n",
        "### Installing Libraries Individually vs. All at Once\n",
        "\n",
        "\n",
        "You can install each library separately by writing a `!pip install` command for each library. This looks like:\n",
        "```python\n",
        "!pip install numpy\n",
        "!pip install matplotlib\n",
        "!pip install tensorflow\n",
        "!pip install scikit-learn\n",
        "\n",
        "\n",
        "Alternatively, you can install all the libraries together in a single !pip install command by separating the library names with a space\n",
        "\n",
        "!pip install numpy matplotlib tensorflow scikit-learn"
      ]
    },
    {
      "cell_type": "markdown",
      "metadata": {
        "id": "b6Q7Y5xRaWG_"
      },
      "source": [
        "## Differences and Considerations\n",
        "- **Convenience**: Installing all libraries at once is more convenient and requires fewer lines of code. It can save time when writing and running the notebook.\n",
        "- **Execution Time**: Running a single !pip install command can be faster than running multiple commands, as it reduces the overhead of initiating separate installation processes for each library.\n",
        "- **Dependency Management**: Installing libraries together can help Pip resolve dependencies more efficiently, potentially avoiding conflicts that might arise when installing libraries separately.\n",
        "- **Debugging**: Installing libraries individually can make it easier to identify which specific library caused an issue if an installation error occurs. However, this is generally only a concern if you encounter frequent installation problems.\n",
        "\n",
        "For this notebook, we will install all necessary libraries together for convenience."
      ]
    },
    {
      "cell_type": "code",
      "execution_count": 1,
      "metadata": {
        "colab": {
          "base_uri": "https://localhost:8080/"
        },
        "id": "ervr2ePIaWHA",
        "outputId": "f66db71d-4f6e-42ff-e7e8-96c41790f303"
      },
      "outputs": [
        {
          "output_type": "stream",
          "name": "stdout",
          "text": [
            "Requirement already satisfied: numpy in /usr/local/lib/python3.10/dist-packages (1.26.4)\n",
            "Requirement already satisfied: matplotlib in /usr/local/lib/python3.10/dist-packages (3.7.1)\n",
            "Requirement already satisfied: tensorflow in /usr/local/lib/python3.10/dist-packages (2.17.0)\n",
            "Requirement already satisfied: scikit-learn in /usr/local/lib/python3.10/dist-packages (1.3.2)\n",
            "Requirement already satisfied: contourpy>=1.0.1 in /usr/local/lib/python3.10/dist-packages (from matplotlib) (1.2.1)\n",
            "Requirement already satisfied: cycler>=0.10 in /usr/local/lib/python3.10/dist-packages (from matplotlib) (0.12.1)\n",
            "Requirement already satisfied: fonttools>=4.22.0 in /usr/local/lib/python3.10/dist-packages (from matplotlib) (4.53.1)\n",
            "Requirement already satisfied: kiwisolver>=1.0.1 in /usr/local/lib/python3.10/dist-packages (from matplotlib) (1.4.5)\n",
            "Requirement already satisfied: packaging>=20.0 in /usr/local/lib/python3.10/dist-packages (from matplotlib) (24.1)\n",
            "Requirement already satisfied: pillow>=6.2.0 in /usr/local/lib/python3.10/dist-packages (from matplotlib) (9.4.0)\n",
            "Requirement already satisfied: pyparsing>=2.3.1 in /usr/local/lib/python3.10/dist-packages (from matplotlib) (3.1.2)\n",
            "Requirement already satisfied: python-dateutil>=2.7 in /usr/local/lib/python3.10/dist-packages (from matplotlib) (2.8.2)\n",
            "Requirement already satisfied: absl-py>=1.0.0 in /usr/local/lib/python3.10/dist-packages (from tensorflow) (1.4.0)\n",
            "Requirement already satisfied: astunparse>=1.6.0 in /usr/local/lib/python3.10/dist-packages (from tensorflow) (1.6.3)\n",
            "Requirement already satisfied: flatbuffers>=24.3.25 in /usr/local/lib/python3.10/dist-packages (from tensorflow) (24.3.25)\n",
            "Requirement already satisfied: gast!=0.5.0,!=0.5.1,!=0.5.2,>=0.2.1 in /usr/local/lib/python3.10/dist-packages (from tensorflow) (0.6.0)\n",
            "Requirement already satisfied: google-pasta>=0.1.1 in /usr/local/lib/python3.10/dist-packages (from tensorflow) (0.2.0)\n",
            "Requirement already satisfied: h5py>=3.10.0 in /usr/local/lib/python3.10/dist-packages (from tensorflow) (3.11.0)\n",
            "Requirement already satisfied: libclang>=13.0.0 in /usr/local/lib/python3.10/dist-packages (from tensorflow) (18.1.1)\n",
            "Requirement already satisfied: ml-dtypes<0.5.0,>=0.3.1 in /usr/local/lib/python3.10/dist-packages (from tensorflow) (0.4.0)\n",
            "Requirement already satisfied: opt-einsum>=2.3.2 in /usr/local/lib/python3.10/dist-packages (from tensorflow) (3.3.0)\n",
            "Requirement already satisfied: protobuf!=4.21.0,!=4.21.1,!=4.21.2,!=4.21.3,!=4.21.4,!=4.21.5,<5.0.0dev,>=3.20.3 in /usr/local/lib/python3.10/dist-packages (from tensorflow) (3.20.3)\n",
            "Requirement already satisfied: requests<3,>=2.21.0 in /usr/local/lib/python3.10/dist-packages (from tensorflow) (2.32.3)\n",
            "Requirement already satisfied: setuptools in /usr/local/lib/python3.10/dist-packages (from tensorflow) (71.0.4)\n",
            "Requirement already satisfied: six>=1.12.0 in /usr/local/lib/python3.10/dist-packages (from tensorflow) (1.16.0)\n",
            "Requirement already satisfied: termcolor>=1.1.0 in /usr/local/lib/python3.10/dist-packages (from tensorflow) (2.4.0)\n",
            "Requirement already satisfied: typing-extensions>=3.6.6 in /usr/local/lib/python3.10/dist-packages (from tensorflow) (4.12.2)\n",
            "Requirement already satisfied: wrapt>=1.11.0 in /usr/local/lib/python3.10/dist-packages (from tensorflow) (1.16.0)\n",
            "Requirement already satisfied: grpcio<2.0,>=1.24.3 in /usr/local/lib/python3.10/dist-packages (from tensorflow) (1.64.1)\n",
            "Requirement already satisfied: tensorboard<2.18,>=2.17 in /usr/local/lib/python3.10/dist-packages (from tensorflow) (2.17.0)\n",
            "Requirement already satisfied: keras>=3.2.0 in /usr/local/lib/python3.10/dist-packages (from tensorflow) (3.4.1)\n",
            "Requirement already satisfied: tensorflow-io-gcs-filesystem>=0.23.1 in /usr/local/lib/python3.10/dist-packages (from tensorflow) (0.37.1)\n",
            "Requirement already satisfied: scipy>=1.5.0 in /usr/local/lib/python3.10/dist-packages (from scikit-learn) (1.13.1)\n",
            "Requirement already satisfied: joblib>=1.1.1 in /usr/local/lib/python3.10/dist-packages (from scikit-learn) (1.4.2)\n",
            "Requirement already satisfied: threadpoolctl>=2.0.0 in /usr/local/lib/python3.10/dist-packages (from scikit-learn) (3.5.0)\n",
            "Requirement already satisfied: wheel<1.0,>=0.23.0 in /usr/local/lib/python3.10/dist-packages (from astunparse>=1.6.0->tensorflow) (0.44.0)\n",
            "Requirement already satisfied: rich in /usr/local/lib/python3.10/dist-packages (from keras>=3.2.0->tensorflow) (13.7.1)\n",
            "Requirement already satisfied: namex in /usr/local/lib/python3.10/dist-packages (from keras>=3.2.0->tensorflow) (0.0.8)\n",
            "Requirement already satisfied: optree in /usr/local/lib/python3.10/dist-packages (from keras>=3.2.0->tensorflow) (0.12.1)\n",
            "Requirement already satisfied: charset-normalizer<4,>=2 in /usr/local/lib/python3.10/dist-packages (from requests<3,>=2.21.0->tensorflow) (3.3.2)\n",
            "Requirement already satisfied: idna<4,>=2.5 in /usr/local/lib/python3.10/dist-packages (from requests<3,>=2.21.0->tensorflow) (3.7)\n",
            "Requirement already satisfied: urllib3<3,>=1.21.1 in /usr/local/lib/python3.10/dist-packages (from requests<3,>=2.21.0->tensorflow) (2.0.7)\n",
            "Requirement already satisfied: certifi>=2017.4.17 in /usr/local/lib/python3.10/dist-packages (from requests<3,>=2.21.0->tensorflow) (2024.7.4)\n",
            "Requirement already satisfied: markdown>=2.6.8 in /usr/local/lib/python3.10/dist-packages (from tensorboard<2.18,>=2.17->tensorflow) (3.6)\n",
            "Requirement already satisfied: tensorboard-data-server<0.8.0,>=0.7.0 in /usr/local/lib/python3.10/dist-packages (from tensorboard<2.18,>=2.17->tensorflow) (0.7.2)\n",
            "Requirement already satisfied: werkzeug>=1.0.1 in /usr/local/lib/python3.10/dist-packages (from tensorboard<2.18,>=2.17->tensorflow) (3.0.3)\n",
            "Requirement already satisfied: MarkupSafe>=2.1.1 in /usr/local/lib/python3.10/dist-packages (from werkzeug>=1.0.1->tensorboard<2.18,>=2.17->tensorflow) (2.1.5)\n",
            "Requirement already satisfied: markdown-it-py>=2.2.0 in /usr/local/lib/python3.10/dist-packages (from rich->keras>=3.2.0->tensorflow) (3.0.0)\n",
            "Requirement already satisfied: pygments<3.0.0,>=2.13.0 in /usr/local/lib/python3.10/dist-packages (from rich->keras>=3.2.0->tensorflow) (2.16.1)\n",
            "Requirement already satisfied: mdurl~=0.1 in /usr/local/lib/python3.10/dist-packages (from markdown-it-py>=2.2.0->rich->keras>=3.2.0->tensorflow) (0.1.2)\n"
          ]
        }
      ],
      "source": [
        "!pip install numpy matplotlib tensorflow scikit-learn"
      ]
    },
    {
      "cell_type": "markdown",
      "metadata": {
        "id": "vbmIT4_NaWHB"
      },
      "source": [
        "\n",
        "### Importing Libraries\n",
        "\n",
        "After installing the libraries, we need to import them into our notebook. Importing libraries allows us to use their functionalities in our code. Each library is imported using an alias (short name) to make the code cleaner and more readable.\n",
        "\n",
        "Let's import the required libraries:\n"
      ]
    },
    {
      "cell_type": "code",
      "execution_count": 2,
      "metadata": {
        "id": "m1lAumw9aWHC"
      },
      "outputs": [],
      "source": [
        "# Importing necessary libraries\n",
        "import numpy as np\n",
        "import matplotlib.pyplot as plt\n",
        "from tensorflow.keras.datasets import cifar10\n",
        "from sklearn.model_selection import train_test_split\n",
        "from sklearn.svm import SVC\n",
        "from sklearn.metrics import classification_report, accuracy_score\n"
      ]
    },
    {
      "cell_type": "markdown",
      "metadata": {
        "id": "PvaUl-DxaWHC"
      },
      "source": [
        "## Step 2: Loading and Preprocessing the CIFAR-10 Dataset\n",
        "\n",
        "The CIFAR-10 dataset is readily available in the `keras` library. We will load the dataset and preprocess it by converting the images to grayscale and flattening them.\n"
      ]
    },
    {
      "cell_type": "code",
      "execution_count": 3,
      "metadata": {
        "colab": {
          "base_uri": "https://localhost:8080/",
          "height": 523
        },
        "id": "I7eKISncaWHC",
        "outputId": "66f9db8b-6101-4cd1-f810-a50e7b5def91"
      },
      "outputs": [
        {
          "output_type": "stream",
          "name": "stdout",
          "text": [
            "Downloading data from https://www.cs.toronto.edu/~kriz/cifar-10-python.tar.gz\n",
            "\u001b[1m170498071/170498071\u001b[0m \u001b[32m━━━━━━━━━━━━━━━━━━━━\u001b[0m\u001b[37m\u001b[0m \u001b[1m11s\u001b[0m 0us/step\n"
          ]
        },
        {
          "output_type": "display_data",
          "data": {
            "text/plain": [
              "<Figure size 640x480 with 1 Axes>"
            ],
            "image/png": "[encoded data removed]"
          },
          "metadata": {}
        },
        {
          "output_type": "stream",
          "name": "stdout",
          "text": [
            "Training set size: (5000, 1024)\n",
            "Testing set size: (1000, 1024)\n"
          ]
        }
      ],
      "source": [
        "# Load CIFAR-10 dataset (reduced size)\n",
        "(X_train, y_train), (X_test, y_test) = cifar10.load_data()\n",
        "\n",
        "# Reduce dataset size\n",
        "num_train = 5000  # Reduced from 50,000\n",
        "num_test = 1000   # Reduced from 10,000\n",
        "X_train, y_train = X_train[:num_train], y_train[:num_train]\n",
        "X_test, y_test = X_test[:num_test], y_test[:num_test]\n",
        "\n",
        "# Convert images to grayscale (simplified method)\n",
        "X_train_gray = X_train.mean(axis=3)\n",
        "X_test_gray = X_test.mean(axis=3)\n",
        "\n",
        "# Flatten the images\n",
        "X_train_gray_flat = X_train_gray.reshape(X_train_gray.shape[0], -1)\n",
        "X_test_gray_flat = X_test_gray.reshape(X_test_gray.shape[0], -1)\n",
        "\n",
        "# Flatten the labels\n",
        "y_train = y_train.flatten()\n",
        "y_test = y_test.flatten()\n",
        "\n",
        "# Display a sample image\n",
        "plt.imshow(X_train_gray[0], cmap='gray')\n",
        "plt.title('Sample Image')\n",
        "plt.show()\n",
        "\n",
        "print(\"Training set size:\", X_train_gray_flat.shape)\n",
        "print(\"Testing set size:\", X_test_gray_flat.shape)"
      ]
    },
    {
      "cell_type": "markdown",
      "metadata": {
        "id": "_6RN6YZtaWHD"
      },
      "source": [
        "## Step 3: Training a Machine Learning Model\n",
        "\n",
        "### What is SVM (Support Vector Machine)?\n",
        "\n",
        "Support Vector Machine (SVM) is a supervised machine learning algorithm that can be used for both classification and regression tasks. However, it is mostly used for classification problems. The objective of the SVM algorithm is to find a hyperplane in an N-dimensional space (N is the number of features) that distinctly classifies the data points.\n",
        "\n",
        "### Key Concepts:\n",
        "\n",
        "- **Hyperplane:** A decision boundary that separates different classes in the feature space. In 2D, it's a line; in 3D, it's a plane.\n",
        "- **Support Vectors:** Data points that are closest to the hyperplane and influence its position and orientation. These points help in maximizing the margin of the classifier.\n",
        "- **Margin:** The distance between the hyperplane and the closest data points from either class. SVM aims to maximize this margin.\n",
        "\n",
        "### Why Use SVM?\n",
        "\n",
        "- **Effective in high-dimensional spaces:** SVM is very effective when the number of features is large.\n",
        "- **Memory efficient:** It uses a subset of training points (support vectors) in the decision function, making it memory efficient.\n",
        "- **Versatile:** Different kernel functions can be specified for the decision function. Common kernels include linear, polynomial, and radial basis function (RBF).\n",
        "\n",
        "### What does `SVC(kernel='linear')` mean?\n",
        "\n",
        "`SVC` stands for Support Vector Classification, which is a class in the Scikit-Learn library used to implement the SVM algorithm for classification tasks. The `kernel` parameter in the `SVC` class specifies the type of hyperplane used to separate the data.\n",
        "\n",
        "#### Kernel Types:\n",
        "\n",
        "- **Linear Kernel:** The data is linearly separable (i.e., a straight line or hyperplane can separate the data). This is the simplest kernel.\n",
        "  - When we use `SVC(kernel='linear')`, it means we are using a linear kernel for our SVM. This kernel is appropriate when the data can be separated by a straight line (or hyperplane in higher dimensions).\n",
        "- **Polynomial Kernel:** The data is not linearly separable, but a polynomial function of the input features can separate the data.\n",
        "- **Radial Basis Function (RBF) Kernel:** The data is not linearly separable, but mapping the data into a higher-dimensional space using a Gaussian (RBF) function can separate the data.\n",
        "\n",
        "### Training the SVM Model\n",
        "\n",
        "We will use a Support Vector Machine (SVM) classifier from Scikit-Learn to train our model on the extracted features.\n"
      ]
    },
    {
      "cell_type": "code",
      "execution_count": 4,
      "metadata": {
        "id": "Co6S8j_AaWHD",
        "colab": {
          "base_uri": "https://localhost:8080/"
        },
        "outputId": "ebc38c24-3e2e-4c24-cfb4-da39caa97fb6"
      },
      "outputs": [
        {
          "output_type": "stream",
          "name": "stdout",
          "text": [
            "Accuracy: 0.214\n",
            "Classification Report:\n",
            "               precision    recall  f1-score   support\n",
            "\n",
            "           0       0.20      0.30      0.24       103\n",
            "           1       0.25      0.33      0.28        89\n",
            "           2       0.19      0.23      0.21       100\n",
            "           3       0.16      0.17      0.16       103\n",
            "           4       0.20      0.20      0.20        90\n",
            "           5       0.15      0.14      0.15        86\n",
            "           6       0.22      0.14      0.17       112\n",
            "           7       0.27      0.21      0.23       102\n",
            "           8       0.29      0.26      0.28       106\n",
            "           9       0.24      0.17      0.20       109\n",
            "\n",
            "    accuracy                           0.21      1000\n",
            "   macro avg       0.22      0.21      0.21      1000\n",
            "weighted avg       0.22      0.21      0.21      1000\n",
            "\n"
          ]
        }
      ],
      "source": [
        "# Train an SVM classifier\n",
        "model = SVC(kernel='linear')\n",
        "model.fit(X_train_gray_flat, y_train)\n",
        "\n",
        "# Predict on the test set\n",
        "y_pred = model.predict(X_test_gray_flat)\n",
        "\n",
        "# Evaluate the model\n",
        "print(\"Accuracy:\", accuracy_score(y_test, y_pred))\n",
        "print(\"Classification Report:\\n\", classification_report(y_test, y_pred))\n"
      ]
    },
    {
      "cell_type": "markdown",
      "source": [
        "## Overall Performance\n",
        "\n",
        "Accuracy (0.214): The model correctly classified about 21.4% of the examples in the test set. In a 10-class classification problem (digits 0-9, presumably), this is significantly worse than random guessing (which would have an expected accuracy of 10%). This indicates the model is struggling to learn meaningful patterns.\n",
        "Detailed Performance (Classification Report)\n",
        "\n",
        "**Precision**: For each class, precision measures how many of the model's positive predictions were actually correct. For example, a precision of 0.20 for class 0 means that out of all the times the model predicted a \"0\", it was only right 20% of the time.\n",
        "**Recall**: For each class, recall measures how many of the actual positive instances the model managed to capture. For example, a recall of 0.30 for class 0 means that the model identified 30% of all the actual \"0\" digits in the test set.\n",
        "F1-score: This is the harmonic mean of precision and recall. It's a single metric that balances both aspects, providing a good summary of how well the model performs on each class.\n",
        "Support: This is the number of instances of each class in the test set.\n",
        "Key Takeaways\n",
        "\n",
        "**Poor Performance Across the Board:** The precision, recall, and F1-scores are low for all classes, indicating the model isn't doing a good job of distinguishing between different digits.\n",
        "Class Imbalance: The support column shows a relatively even distribution of classes in the test set. This suggests that class imbalance isn't the primary issue.\n",
        "\n",
        "##Possible Reasons for the Poor Performance\n",
        "\n",
        "Features Not Discriminative Enough: The features you're using (presumably flattened grayscale pixel values) might not capture the essential differences between the digits well enough. Consider exploring different feature extraction techniques (e.g., HOG features, edge detection, etc.).\n",
        "Linear Kernel Limitation: A linear kernel in SVM assumes the data is linearly separable, which might not be the case for digit classification. Experiment with other kernels like 'rbf' (radial basis function) or 'poly' (polynomial).\n",
        "Need for Hyperparameter Tuning: SVM performance heavily depends on its hyperparameters (like the regularization parameter C). Try a grid search or random search to find optimal values for your data.\n",
        "Overfitting/Underfitting: The model might be either too simple (underfitting) or too complex (overfitting) for your data. Examine your model complexity and consider adjusting it.\n",
        "Next Steps\n",
        "\n",
        "Feature Engineering: Explore better ways to represent your digit images as features.\n",
        "Kernel Selection: Try different kernels to see if they improve performance.\n",
        "Hyperparameter Tuning: Use techniques like grid search or random search to find the best hyperparameters.\n",
        "Regularization: Experiment with different regularization strengths to prevent overfitting.\n",
        "Consider Other Models: If SVM doesn't work well after extensive tuning, try other algorithms like Random Forests, K-Nearest Neighbors, or Convolutional Neural Networks (CNNs), which are often well-suited for image classification tasks."
      ],
      "metadata": {
        "id": "6qquHUW-Tsj_"
      }
    },
    {
      "cell_type": "markdown",
      "metadata": {
        "id": "LQH7KLTtaWHD"
      },
      "source": [
        "## Step 4: Conclusion\n",
        "\n",
        "In this notebook, we:\n",
        "1. Loaded and preprocessed the CIFAR-10 dataset.\n",
        "2. Converted the images to grayscale and flattened them to use as features.\n",
        "3. Trained an SVM classifier on the extracted features.\n",
        "4. Evaluated the model's performance.\n",
        "\n",
        "### Summary of SVM\n",
        "\n",
        "Support Vector Machines (SVM) are a powerful tool for classification tasks. They work by finding the optimal hyperplane that maximizes the margin between different classes. The key points include:\n",
        "- **Hyperplane:** The decision boundary.\n",
        "- **Support Vectors:** Critical data points that define the hyperplane.\n",
        "- **Margin:** The gap between the hyperplane and the nearest data points from any class.\n",
        "\n",
        "SVMs are effective in high-dimensional spaces and are versatile due to the use of different kernel functions. However, they can be computationally intensive for large datasets and less effective for overlapping classes.\n",
        "\n",
        "This exercise provided a basic introduction to image classification using classical machine learning techniques. Next  few modules will explore advanced applications, using deep learning models like Convolutional Neural Networks (CNNs) using libraries such as TensorFlow or PyTorch.\n"
      ]
    }
  ],
  "metadata": {
    "language_info": {
      "name": "python"
    },
    "colab": {
      "provenance": [],
      "include_colab_link": true
    },
    "kernelspec": {
      "name": "python3",
      "display_name": "Python 3"
    }
  },
  "nbformat": 4,
  "nbformat_minor": 0
}